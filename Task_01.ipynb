{
  "nbformat": 4,
  "nbformat_minor": 0,
  "metadata": {
    "colab": {
      "provenance": []
    },
    "kernelspec": {
      "name": "python3",
      "display_name": "Python 3"
    },
    "language_info": {
      "name": "python"
    }
  },
  "cells": [
    {
      "cell_type": "code",
      "execution_count": 1,
      "metadata": {
        "colab": {
          "base_uri": "https://localhost:8080/"
        },
        "id": "3JFRxx8GRxpo",
        "outputId": "6db6dd4a-b987-4f33-9807-8310557b9618"
      },
      "outputs": [
        {
          "output_type": "stream",
          "name": "stdout",
          "text": [
            "Caesar Cipher Program\n",
            "Choose an option: (E)ncrypt, (D)ecrypt, or (Q)uit: E\n",
            "Enter the message: Hello World\n",
            "Enter the shift value (integer): 23\n",
            "Encrypted message: Ebiil Tloia\n",
            "Choose an option: (E)ncrypt, (D)ecrypt, or (Q)uit: quit\n",
            "Invalid option. Please try again.\n",
            "Choose an option: (E)ncrypt, (D)ecrypt, or (Q)uit: Q\n",
            "Exiting the program. Goodbye!\n"
          ]
        }
      ],
      "source": [
        "# Caesar Cipher Implementation in Google Colab\n",
        "\n",
        "def caesar_cipher_encrypt(text, shift):\n",
        "    \"\"\"\n",
        "    Encrypt the given text using Caesar Cipher with the provided shift value.\n",
        "    \"\"\"\n",
        "    encrypted_text = \"\"\n",
        "    for char in text:\n",
        "        if char.isalpha():  # Check if character is a letter\n",
        "            shift_base = ord('A') if char.isupper() else ord('a')\n",
        "            # Perform the shift\n",
        "            encrypted_text += chr((ord(char) - shift_base + shift) % 26 + shift_base)\n",
        "        else:\n",
        "            # Non-alphabetic characters remain unchanged\n",
        "            encrypted_text += char\n",
        "    return encrypted_text\n",
        "\n",
        "\n",
        "def caesar_cipher_decrypt(text, shift):\n",
        "    \"\"\"\n",
        "    Decrypt the given text encrypted using Caesar Cipher with the provided shift value.\n",
        "    \"\"\"\n",
        "    return caesar_cipher_encrypt(text, -shift)  # Decryption is just reverse of encryption\n",
        "\n",
        "\n",
        "def main():\n",
        "    print(\"Caesar Cipher Program\")\n",
        "    while True:\n",
        "        choice = input(\"Choose an option: (E)ncrypt, (D)ecrypt, or (Q)uit: \").strip().upper()\n",
        "        if choice == 'Q':\n",
        "            print(\"Exiting the program. Goodbye!\")\n",
        "            break\n",
        "        elif choice in ['E', 'D']:\n",
        "            message = input(\"Enter the message: \")\n",
        "            try:\n",
        "                shift = int(input(\"Enter the shift value (integer): \"))\n",
        "            except ValueError:\n",
        "                print(\"Shift value must be an integer. Please try again.\")\n",
        "                continue\n",
        "\n",
        "            if choice == 'E':\n",
        "                result = caesar_cipher_encrypt(message, shift)\n",
        "                print(f\"Encrypted message: {result}\")\n",
        "            else:\n",
        "                result = caesar_cipher_decrypt(message, shift)\n",
        "                print(f\"Decrypted message: {result}\")\n",
        "        else:\n",
        "            print(\"Invalid option. Please try again.\")\n",
        "\n",
        "\n",
        "if __name__ == \"__main__\":\n",
        "    main()\n"
      ]
    },
    {
      "cell_type": "code",
      "source": [],
      "metadata": {
        "id": "HczqFCPsR0Nm"
      },
      "execution_count": null,
      "outputs": []
    }
  ]
}